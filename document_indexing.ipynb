{
 "cells": [
  {
   "cell_type": "code",
   "execution_count": 33,
   "metadata": {
    "id": "Bm7tGLKHHBsh"
   },
   "outputs": [],
   "source": [
    "import os\n",
    "from langchain.text_splitter import RecursiveCharacterTextSplitter\n",
    "from langchain_openai import OpenAIEmbeddings \n",
    "from langchain.vectorstores import Chroma\n",
    "from langchain.document_loaders import PyPDFLoader"
   ]
  },
  {
   "cell_type": "markdown",
   "metadata": {
    "id": "ShJJc7B1M-RL"
   },
   "source": [
    "## Data Indexing\n",
    "- Read the Document Transformer.pdf\n",
    "- Split the text as chunks\n",
    "- Create the embedings for the document\n",
    "- Store in the chroma db\n"
   ]
  },
  {
   "cell_type": "code",
   "execution_count": 34,
   "metadata": {
    "id": "V1374Q6XM_b-"
   },
   "outputs": [
    {
     "name": "stdout",
     "output_type": "stream",
     "text": [
      "Vector store created and automatically persisted at: chromadb\n"
     ]
    }
   ],
   "source": [
    "DOC_PATH = \"Transformer.pdf\"\n",
    "CHROMA_PATH = \"chromadb\"\n",
    "\n",
    "OPENAI_API_KEY = os.environ[\"OPENAI_API_KEY\"]\n",
    "# Load and split the document\n",
    "loader = PyPDFLoader(DOC_PATH)\n",
    "pages = loader.load()\n",
    "text_splitter = RecursiveCharacterTextSplitter(chunk_size=500, chunk_overlap=50)\n",
    "chunks = text_splitter.split_documents(pages)\n",
    "\n",
    "# Create embeddings using the updated class from langchain_openai\n",
    "embeddings = OpenAIEmbeddings(openai_api_key=OPENAI_API_KEY)\n",
    "\n",
    "# Create a Chroma vector store from the document chunks\n",
    "db_chroma = Chroma.from_documents(chunks, embedding=embeddings, persist_directory=CHROMA_PATH)\n",
    "\n",
    "print(\"Vector store created and automatically persisted at:\", CHROMA_PATH)\n"
   ]
  }
 ],
 "metadata": {
  "colab": {
   "provenance": []
  },
  "kernelspec": {
   "display_name": "Python 3 (ipykernel)",
   "language": "python",
   "name": "python3"
  },
  "language_info": {
   "codemirror_mode": {
    "name": "ipython",
    "version": 3
   },
   "file_extension": ".py",
   "mimetype": "text/x-python",
   "name": "python",
   "nbconvert_exporter": "python",
   "pygments_lexer": "ipython3",
   "version": "3.8.19"
  }
 },
 "nbformat": 4,
 "nbformat_minor": 4
}
